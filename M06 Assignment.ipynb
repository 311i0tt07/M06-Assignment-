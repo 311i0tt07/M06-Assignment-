{
 "cells": [
  {
   "cell_type": "markdown",
   "id": "7464373a-d337-47a0-a01c-e15db497a041",
   "metadata": {},
   "source": [
    "13.1"
   ]
  },
  {
   "cell_type": "code",
   "execution_count": 17,
   "id": "0bb53ba7-9811-44b3-a3f4-a4e14286756e",
   "metadata": {},
   "outputs": [],
   "source": [
    "from datetime import date\n",
    "\n",
    "today = date.today()\n",
    "today_string = today.strftime('%Y-%m-%d')\n",
    "\n",
    "with open('today.txt', 'w') as file:\n",
    "    file.write(today_string)"
   ]
  },
  {
   "cell_type": "markdown",
   "id": "bcc3f538-c525-4997-af4e-45dafa9f5312",
   "metadata": {},
   "source": [
    "13.2"
   ]
  },
  {
   "cell_type": "code",
   "execution_count": 20,
   "id": "bfa4bcdf-8796-4f43-9d03-653e4f7334af",
   "metadata": {},
   "outputs": [
    {
     "data": {
      "text/plain": [
       "'2024-07-13'"
      ]
     },
     "execution_count": 20,
     "metadata": {},
     "output_type": "execute_result"
    }
   ],
   "source": [
    "with open('today.txt', 'r') as file:\n",
    "    today_string = file.read()\n",
    "today_string"
   ]
  },
  {
   "cell_type": "markdown",
   "id": "00e72213-0dd0-4ff2-bfbb-1bc495f8e18e",
   "metadata": {},
   "source": [
    "13.3 "
   ]
  },
  {
   "cell_type": "code",
   "execution_count": 23,
   "id": "22319034-e223-4405-98bb-86502fae9e31",
   "metadata": {},
   "outputs": [
    {
     "data": {
      "text/plain": [
       "datetime.date(2024, 7, 13)"
      ]
     },
     "execution_count": 23,
     "metadata": {},
     "output_type": "execute_result"
    }
   ],
   "source": [
    "from datetime import datetime\n",
    "\n",
    "parsed_date = datetime.strptime(today_string, '%Y-%m-%d').date()\n",
    "parsed_date"
   ]
  },
  {
   "cell_type": "markdown",
   "id": "a425d554-1744-4076-b61c-acb9e9b01599",
   "metadata": {},
   "source": [
    "15.1"
   ]
  },
  {
   "cell_type": "code",
   "execution_count": 26,
   "id": "891c1e9a-49de-4c66-bbff-9b49159e0faa",
   "metadata": {},
   "outputs": [
    {
     "name": "stdout",
     "output_type": "stream",
     "text": [
      "All processes have finished.\n"
     ]
    }
   ],
   "source": [
    "import multiprocessing\n",
    "import time\n",
    "import random\n",
    "from datetime import datetime\n",
    "\n",
    "\n",
    "def process_task():\n",
    "    wait_time = random.uniform(0, 1)\n",
    "    time.sleep(wait_time)\n",
    "   \n",
    "    current_time = datetime.now().strftime('%H:%M:%S.%f')\n",
    "    print(f\"Process ID: {multiprocessing.current_process().pid}, Wait Time: {wait_time:.3f} seconds, Current Time: {current_time}\")\n",
    "\n",
    "processes = []\n",
    "\n",
    "for _ in range(3):\n",
    "    process = multiprocessing.Process(target=process_task)\n",
    "    processes.append(process)\n",
    "    process.start()\n",
    "\n",
    "for process in processes:\n",
    "    process.join()\n",
    "\n",
    "print(\"All processes have finished.\")"
   ]
  },
  {
   "cell_type": "code",
   "execution_count": null,
   "id": "1861db71-3e34-4b31-a09a-2ec6ac360800",
   "metadata": {},
   "outputs": [],
   "source": []
  }
 ],
 "metadata": {
  "kernelspec": {
   "display_name": "Python 3 (ipykernel)",
   "language": "python",
   "name": "python3"
  },
  "language_info": {
   "codemirror_mode": {
    "name": "ipython",
    "version": 3
   },
   "file_extension": ".py",
   "mimetype": "text/x-python",
   "name": "python",
   "nbconvert_exporter": "python",
   "pygments_lexer": "ipython3",
   "version": "3.11.7"
  }
 },
 "nbformat": 4,
 "nbformat_minor": 5
}
